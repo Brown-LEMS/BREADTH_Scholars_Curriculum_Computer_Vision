{
  "nbformat": 4,
  "nbformat_minor": 0,
  "metadata": {
    "colab": {
      "provenance": []
    },
    "kernelspec": {
      "name": "python3",
      "display_name": "Python 3"
    },
    "language_info": {
      "name": "python"
    }
  },
  "cells": [
    {
      "cell_type": "code",
      "execution_count": null,
      "metadata": {
        "id": "sctQC9fYxkqa"
      },
      "outputs": [],
      "source": [
        "!pip install -q gdown"
      ]
    },
    {
      "cell_type": "code",
      "source": [
        "!gdown --id 1_C2D8FZH1S_G6e7onRCykqn7vzGAQ1HS -O walk_img1.png\n",
        "!gdown --id 1tOGlbqLMQ8LnbzMkRhyhCF8cYS5GxJaj -O walk_img2.png"
      ],
      "metadata": {
        "id": "fHlPGisZxpK7"
      },
      "execution_count": null,
      "outputs": []
    },
    {
      "cell_type": "code",
      "source": [
        "import numpy as np\n",
        "import matplotlib.pyplot as plt\n",
        "import imageio.v2 as imageio\n",
        "import cv2\n",
        "\n",
        "walk_img_1 = imageio.imread(\"/content/walk_img1.png\")\n",
        "walk_img_2 = imageio.imread(\"/content/walk_img2.png\")\n",
        "print(walk_img_1.shape)\n",
        "\n",
        "plt.figure(figsize=(10,10))\n",
        "plt.subplot(1,2,1)\n",
        "plt.imshow(walk_img_1, cmap='gray')\n",
        "plt.axis('off')\n",
        "\n",
        "plt.subplot(1,2,2)\n",
        "plt.imshow(walk_img_2, cmap='gray')\n",
        "plt.axis('off')\n",
        "plt.show()"
      ],
      "metadata": {
        "id": "T3MiEzImzNDZ"
      },
      "execution_count": null,
      "outputs": []
    },
    {
      "cell_type": "code",
      "source": [
        "gray_walk_img_1 = cv2.cvtColor(walk_img_1, cv2.COLOR_BGR2GRAY)\n",
        "gray_walk_img_2 = cv2.cvtColor(walk_img_2, cv2.COLOR_BGR2GRAY)\n",
        "\n",
        "# Corner detector\n",
        "corners1 = cv2.goodFeaturesToTrack(gray_walk_img_1, maxCorners=150, qualityLevel=0.01, minDistance=10)\n",
        "corners2 = cv2.goodFeaturesToTrack(gray_walk_img_2, maxCorners=150, qualityLevel=0.01, minDistance=10)\n",
        "\n",
        "# Convert corner coordinates to integer\n",
        "corners1 = np.round(corners1.reshape(-1, 2)).astype(int)\n",
        "corners2 = np.round(corners2.reshape(-1, 2)).astype(int)\n",
        "\n",
        "print(f\"Number of detected corners on the first image = {len(corners1)}\")\n",
        "print(f\"Number of detected corners on the second image = {len(corners2)}\")\n",
        "\n",
        "plt.figure(figsize=(10,10))\n",
        "plt.subplot(1,2,1)\n",
        "plt.imshow(walk_img_1, cmap='gray')\n",
        "for (x, y) in corners1:\n",
        "    plt.plot(x, y, 'bo', markersize=3)\n",
        "plt.axis('off')\n",
        "\n",
        "plt.subplot(1,2,2)\n",
        "plt.imshow(walk_img_2, cmap='gray')\n",
        "for (x, y) in corners2:\n",
        "    plt.plot(x, y, 'bo', markersize=3)\n",
        "plt.axis('off')\n",
        "plt.show()"
      ],
      "metadata": {
        "id": "PSYWo97i1xnm"
      },
      "execution_count": null,
      "outputs": []
    },
    {
      "cell_type": "code",
      "source": [
        "# Extract patches around each corner\n",
        "def extract_patches(img, corners, patch_size = 11):\n",
        "    patches = []\n",
        "    valid_pts = []\n",
        "    half = patch_size // 2\n",
        "    h, w = img.shape\n",
        "    for (x, y) in corners:\n",
        "        if x - half >= 0 and x + half < w and y - half >= 0 and y + half < h:\n",
        "            patch = img[y - half:y + half + 1, x - half:x + half + 1]\n",
        "            patches.append(patch.astype(np.float32).flatten())\n",
        "            valid_pts.append((x, y))\n",
        "    return np.array(patches), np.array(valid_pts)\n",
        "\n",
        "patches1, pts1 = extract_patches(gray_walk_img_1, corners1)\n",
        "patches2, pts2 = extract_patches(gray_walk_img_2, corners2)\n",
        "\n",
        "# Compute SSD distances between all patch pairs\n",
        "ssd_matrix = np.sum((patches1[:, np.newaxis, :] - patches2[np.newaxis, :, :]) ** 2, axis=2)\n",
        "\n",
        "# Find best matches based on minimum SSD\n",
        "matches = []\n",
        "for i in range(len(pts1)):\n",
        "    j = np.argmin(ssd_matrix[i])\n",
        "    ssd_val = ssd_matrix[i, j]\n",
        "    matches.append((i, j, ssd_val))\n",
        "\n",
        "# Keep top-N matches (lowest SSD values)\n",
        "matches = sorted(matches, key=lambda x: x[2])\n",
        "top_n = 50\n",
        "matches = matches[:top_n]\n",
        "\n",
        "# Visualize correspondences\n",
        "concat = np.hstack((gray_walk_img_1, gray_walk_img_2))\n",
        "\n",
        "offset = gray_walk_img_1.shape[1]\n",
        "plt.figure(figsize=(12, 12))\n",
        "plt.imshow(concat, cmap='gray')\n",
        "for (i, j, ssd) in matches:\n",
        "    x1, y1 = pts1[i]\n",
        "    x2, y2 = pts2[j]\n",
        "    plt.plot([x1, x2 + offset], [y1, y2], 'r-', linewidth=0.8)\n",
        "    plt.plot(x1, y1, 'bo', markersize=3)\n",
        "    plt.plot(x2 + offset, y2, 'bo', markersize=3)\n",
        "plt.title(f\"Top {top_n} correspondences of corner features using SSD\")\n",
        "plt.axis('off')\n",
        "plt.show()\n"
      ],
      "metadata": {
        "id": "s-4WloxszdeP"
      },
      "execution_count": null,
      "outputs": []
    },
    {
      "cell_type": "code",
      "source": [
        "sift = cv2.SIFT_create()\n",
        "kp1, desc1 = sift.detectAndCompute(gray_walk_img_1, None)\n",
        "kp2, desc2 = sift.detectAndCompute(gray_walk_img_2, None)\n",
        "\n",
        "print(f\"Detected {len(kp1)} SIFT keypoints on the first image\")\n",
        "print(f\"Detected {len(kp2)} SIFT keypoints on the first image\")\n",
        "\n",
        "# draw keypoints on the two images\n",
        "img1_kp = cv2.drawKeypoints(gray_walk_img_1, kp1, None, flags=cv2.DRAW_MATCHES_FLAGS_DRAW_RICH_KEYPOINTS)\n",
        "img2_kp = cv2.drawKeypoints(gray_walk_img_2, kp2, None, flags=cv2.DRAW_MATCHES_FLAGS_DRAW_RICH_KEYPOINTS)\n",
        "\n",
        "plt.figure(figsize=(12, 12))\n",
        "plt.subplot(1,2,1)\n",
        "plt.imshow(cv2.cvtColor(img1_kp, cv2.COLOR_BGR2RGB))\n",
        "plt.axis(\"off\")\n",
        "\n",
        "plt.subplot(1,2,2)\n",
        "plt.imshow(cv2.cvtColor(img2_kp, cv2.COLOR_BGR2RGB))\n",
        "plt.axis(\"off\")\n",
        "plt.show()"
      ],
      "metadata": {
        "id": "lA8q_xgr35Ka"
      },
      "execution_count": null,
      "outputs": []
    },
    {
      "cell_type": "code",
      "source": [
        "# Compute Euclidean distances between every descriptor pair\n",
        "# Each row i corresponds to desc1[i]; each column j to desc2[j]\n",
        "similarity_matrix = np.sum((desc1[:, np.newaxis, :] - desc2[np.newaxis, :, :]) ** 2, axis=2)\n",
        "\n",
        "# Find best match (lowest Euclidean distance) in img2 for each desc in img1\n",
        "sift_matches = []\n",
        "for i in range(len(kp1)):\n",
        "    j = np.argmin(similarity_matrix[i])\n",
        "    ssd_val = similarity_matrix[i, j]\n",
        "    sift_matches.append(cv2.DMatch(_queryIdx=i, _trainIdx=j, _distance=ssd_val))\n",
        "\n",
        "# Sort sift_matches by its descriptor similarities\n",
        "sift_matches = sorted(sift_matches, key=lambda x: x.distance)\n",
        "\n",
        "# Visualize top_n matches\n",
        "top_n = 50\n",
        "img_matches = cv2.drawMatches(\n",
        "    gray_walk_img_1, kp1, gray_walk_img_2, kp2, sift_matches[:top_n], None,\n",
        "    flags=cv2.DrawMatchesFlags_NOT_DRAW_SINGLE_POINTS\n",
        ")\n",
        "\n",
        "plt.figure(figsize=(12, 12))\n",
        "plt.imshow(img_matches)\n",
        "plt.title(f\"Top {top_n} correspondences of SIFT features\")\n",
        "plt.axis(\"off\")\n",
        "plt.show()"
      ],
      "metadata": {
        "id": "3ltdYNwN2mRW"
      },
      "execution_count": null,
      "outputs": []
    },
    {
      "cell_type": "code",
      "source": [
        "!gdown --id 1Cfr634zg1J7g7E3UfepRN517lT_dKaZY -O car.avi"
      ],
      "metadata": {
        "id": "ueqCEGzC4w-b"
      },
      "execution_count": null,
      "outputs": []
    },
    {
      "cell_type": "code",
      "source": [
        "from IPython.display import HTML\n",
        "from base64 import b64encode\n",
        "\n",
        "# Path of the video\n",
        "video_path = \"/content/car.avi\"\n",
        "\n",
        "# Encode video to base64 for HTML display\n",
        "mp4 = video_path.replace(\".avi\", \".mp4\")\n",
        "!ffmpeg -i \"{video_path}\" -vcodec h264 -acodec aac -y \"{mp4}\"  # convert to mp4\n",
        "\n",
        "# Display\n",
        "mp4_bytes = open(mp4, \"rb\").read()\n",
        "mp4_b64 = b64encode(mp4_bytes).decode()\n",
        "HTML(f'''\n",
        "<video width=\"640\" height=\"480\" controls>\n",
        "    <source src=\"data:video/mp4;base64,{mp4_b64}\" type=\"video/mp4\">\n",
        "</video>\n",
        "''')"
      ],
      "metadata": {
        "id": "8_zOEAVv9Xn1"
      },
      "execution_count": null,
      "outputs": []
    }
  ]
}